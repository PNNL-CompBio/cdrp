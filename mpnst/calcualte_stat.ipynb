{
 "cells": [
  {
   "cell_type": "code",
   "execution_count": 1,
   "metadata": {},
   "outputs": [
    {
     "name": "stdout",
     "output_type": "stream",
     "text": [
      "Mean ± Standard Deviation of Pearson Correlation: 0.269 ± 0.052\n",
      "Mean ± Standard Deviation of RMSE: 0.198 ± 0.015\n"
     ]
    }
   ],
   "source": [
    "import numpy as np\n",
    "\n",
    "def calculate_statistics(file_path):\n",
    "    # Read data from file\n",
    "    data = []\n",
    "    with open(file_path, 'r') as file:\n",
    "        lines = file.readlines()[2:]  # Skip the first two lines (header)\n",
    "        for line in lines:\n",
    "            values = line.strip().split()\n",
    "            rmse = float(values[1])\n",
    "            pearson = float(values[2])\n",
    "            data.append((rmse, pearson))\n",
    "\n",
    "    # Separate RMSE and Pearson Correlation\n",
    "    rmse_values = [item[0] for item in data]\n",
    "    pearson_values = [item[1] for item in data]\n",
    "\n",
    "    # Calculate mean and standard deviation\n",
    "    mean_rmse = np.mean(rmse_values)\n",
    "    std_rmse = np.std(rmse_values)\n",
    "    mean_pearson = np.mean(pearson_values)\n",
    "    std_pearson = np.std(pearson_values)\n",
    "    print(f\"Mean ± Standard Deviation of Pearson Correlation: {mean_pearson:.3f} ± {std_pearson:.3f}\")\n",
    "    print(f\"Mean ± Standard Deviation of RMSE: {mean_rmse:.3f} ± {std_rmse:.3f}\")\n",
    "\n",
    "# File path\n",
    "# file_path = 'path_to_your_file/seed_10_epoch_100_GDSCv2_early_exit_rna_train_results_table.txt'\n",
    "\n",
    "calculate_statistics('seed_10_epoch_100_CCLE_MPNST_dss_rna_train_results_table.txt')"
   ]
  },
  {
   "cell_type": "code",
   "execution_count": 2,
   "metadata": {},
   "outputs": [
    {
     "name": "stdout",
     "output_type": "stream",
     "text": [
      "Mean ± Standard Deviation of Pearson Correlation: 0.889 ± 0.013\n",
      "Mean ± Standard Deviation of RMSE: 0.008 ± 0.001\n"
     ]
    }
   ],
   "source": [
    "calculate_statistics('seed_10_epoch_100_CCLE_CCLE_aac_rna_train_results_table.txt') "
   ]
  },
  {
   "cell_type": "code",
   "execution_count": 3,
   "metadata": {},
   "outputs": [
    {
     "name": "stdout",
     "output_type": "stream",
     "text": [
      "Mean ± Standard Deviation of Pearson Correlation: 0.061 ± 0.025\n",
      "Mean ± Standard Deviation of RMSE: 0.076 ± 0.003\n"
     ]
    }
   ],
   "source": [
    "calculate_statistics('seed_10_epoch_100_CCLE_BeatAML_aac_rna_train_results_table.txt') "
   ]
  },
  {
   "cell_type": "code",
   "execution_count": 4,
   "metadata": {},
   "outputs": [
    {
     "name": "stdout",
     "output_type": "stream",
     "text": [
      "Mean ± Standard Deviation of Pearson Correlation: 0.257 ± 0.071\n",
      "Mean ± Standard Deviation of RMSE: 0.172 ± 0.012\n"
     ]
    }
   ],
   "source": [
    "calculate_statistics('seed_10_epoch_100_CCLE_MPNST_aac_rna_train_results_table.txt') "
   ]
  },
  {
   "cell_type": "code",
   "execution_count": 5,
   "metadata": {},
   "outputs": [
    {
     "name": "stdout",
     "output_type": "stream",
     "text": [
      "Mean ± Standard Deviation of Pearson Correlation: 0.473 ± 0.034\n",
      "Mean ± Standard Deviation of RMSE: 0.042 ± 0.005\n"
     ]
    }
   ],
   "source": [
    "calculate_statistics('seed_10_epoch_100_BeatAML_CCLE_aac_rna_train_results_table.txt') "
   ]
  },
  {
   "cell_type": "code",
   "execution_count": 6,
   "metadata": {},
   "outputs": [
    {
     "name": "stdout",
     "output_type": "stream",
     "text": [
      "Mean ± Standard Deviation of Pearson Correlation: 0.677 ± 0.018\n",
      "Mean ± Standard Deviation of RMSE: 0.025 ± 0.001\n"
     ]
    }
   ],
   "source": [
    "calculate_statistics('seed_10_epoch_100_BeatAML_BeatAML_aac_rna_train_results_table.txt') "
   ]
  },
  {
   "cell_type": "code",
   "execution_count": 8,
   "metadata": {},
   "outputs": [
    {
     "name": "stdout",
     "output_type": "stream",
     "text": [
      "Mean ± Standard Deviation of Pearson Correlation: -0.109 ± 0.148\n",
      "Mean ± Standard Deviation of RMSE: 0.130 ± 0.009\n"
     ]
    }
   ],
   "source": [
    "calculate_statistics('seed_10_epoch_100_BeatAML_MPNST_aac_rna_train_results_table.txt') "
   ]
  },
  {
   "cell_type": "code",
   "execution_count": 9,
   "metadata": {},
   "outputs": [
    {
     "name": "stdout",
     "output_type": "stream",
     "text": [
      "Mean ± Standard Deviation of Pearson Correlation: -0.000 ± 0.028\n",
      "Mean ± Standard Deviation of RMSE: 0.121 ± 0.007\n"
     ]
    }
   ],
   "source": [
    "calculate_statistics('seed_10_epoch_100_MPNST_BeatAML_aac_rna_train_results_table.txt') "
   ]
  },
  {
   "cell_type": "code",
   "execution_count": 10,
   "metadata": {},
   "outputs": [
    {
     "name": "stdout",
     "output_type": "stream",
     "text": [
      "Mean ± Standard Deviation of Pearson Correlation: -0.050 ± 0.226\n",
      "Mean ± Standard Deviation of RMSE: 0.493 ± 0.360\n"
     ]
    }
   ],
   "source": [
    "calculate_statistics('seed_10_epoch_100_MPNST_MPNST_aac_rna_train_results_table.txt') "
   ]
  }
 ],
 "metadata": {
  "kernelspec": {
   "display_name": "CDRP",
   "language": "python",
   "name": "python3"
  },
  "language_info": {
   "codemirror_mode": {
    "name": "ipython",
    "version": 3
   },
   "file_extension": ".py",
   "mimetype": "text/x-python",
   "name": "python",
   "nbconvert_exporter": "python",
   "pygments_lexer": "ipython3",
   "version": "3.8.19"
  }
 },
 "nbformat": 4,
 "nbformat_minor": 2
}
