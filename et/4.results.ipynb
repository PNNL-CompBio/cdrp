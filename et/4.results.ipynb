{
 "cells": [
  {
   "cell_type": "code",
   "execution_count": 1,
   "id": "8de03ab2-46cc-4ec8-8013-e8e7b6040edf",
   "metadata": {},
   "outputs": [],
   "source": [
    "import pandas as pd\n",
    "from sklearn.metrics import mean_squared_error, r2_score"
   ]
  },
  {
   "cell_type": "code",
   "execution_count": 2,
   "id": "6369508b-ae5c-47d5-b2f4-e36281364b7c",
   "metadata": {},
   "outputs": [],
   "source": [
    "def results(feature_type):\n",
    "        \n",
    "    pred = pd.read_pickle(f'results/{feature_type}_test_pred.pkl')\n",
    "    true = pd.read_pickle(f'results/{feature_type}_test_true.pkl')\n",
    "    \n",
    "    print(mean_squared_error(true, pred))\n",
    "    \n",
    "    print(r2_score(y_true=true, y_pred=pred))\n",
    "\n",
    "    tr = pd.read_pickle(f'cl_features/{feature_type}_train_index.pkl')\n",
    "    # res.append([feature_type, mean_squared_error(true, pred)**.5, r2_score(y_true=true, y_pred=pred)])\n",
    " \n",
    "    return  feature_type, mean_squared_error(true, pred)**.5, r2_score(y_true=true, y_pred=pred), len(tr)"
   ]
  },
  {
   "cell_type": "code",
   "execution_count": 3,
   "id": "e999b6a7-ea2b-4a46-b15a-d61463f635b8",
   "metadata": {},
   "outputs": [
    {
     "name": "stdout",
     "output_type": "stream",
     "text": [
      "copy_number 13008\n",
      "multiplier_copy_number 13008\n",
      "proteomics 9860\n",
      "multiplier_proteomics 9860\n",
      "transcriptomics 12995\n",
      "multiplier_transcriptomics 12995\n"
     ]
    }
   ],
   "source": [
    "for feature_type in ['copy_number', 'multiplier_copy_number',\n",
    "                     'proteomics', 'multiplier_proteomics',\n",
    "                     'transcriptomics', 'multiplier_transcriptomics'\n",
    "                    ]:\n",
    "    # res.append(results(feature_type))\n",
    "    tr = pd.read_pickle(f'cl_features/{feature_type}_train_index.pkl')\n",
    "    print(feature_type, len(tr))"
   ]
  },
  {
   "cell_type": "code",
   "execution_count": 5,
   "id": "a0392b90-44c6-4abc-87d4-dcbfb3f1cfb2",
   "metadata": {},
   "outputs": [
    {
     "name": "stdout",
     "output_type": "stream",
     "text": [
      "0.009661088297820534\n",
      "0.6342269670694629\n",
      "0.00982007139851695\n",
      "0.6270615965633255\n",
      "0.008479924910325665\n",
      "0.6688339602739277\n",
      "0.00859181227874644\n",
      "0.6716147400708894\n",
      "0.008488870389655446\n",
      "0.6764306166301242\n",
      "0.008714428681075422\n",
      "0.672832828797522\n"
     ]
    }
   ],
   "source": [
    "res=[]\n",
    "for feature_type in ['copy_number', 'multiplier_copy_number',\n",
    "                     'proteomics', 'multiplier_proteomics',\n",
    "                     'transcriptomics', 'multiplier_transcriptomics'\n",
    "                    ]:\n",
    "      \n",
    "    res.append(results(feature_type))\n",
    "    "
   ]
  },
  {
   "cell_type": "code",
   "execution_count": 6,
   "id": "e9227cd1-7fe4-4da3-a903-bc70386db87a",
   "metadata": {},
   "outputs": [],
   "source": [
    "res = pd.DataFrame(res, columns=['feature_type', 'rmse', 'r2', 'n_train_data'])"
   ]
  },
  {
   "cell_type": "markdown",
   "id": "35044f21-6858-40a2-ac38-15b9734154eb",
   "metadata": {},
   "source": [
    "#### AUC prediction accuracies"
   ]
  },
  {
   "cell_type": "code",
   "execution_count": 7,
   "id": "9f26f064-1ccf-405a-85cb-4f4304c85661",
   "metadata": {},
   "outputs": [
    {
     "data": {
      "text/html": [
       "<div>\n",
       "<style scoped>\n",
       "    .dataframe tbody tr th:only-of-type {\n",
       "        vertical-align: middle;\n",
       "    }\n",
       "\n",
       "    .dataframe tbody tr th {\n",
       "        vertical-align: top;\n",
       "    }\n",
       "\n",
       "    .dataframe thead th {\n",
       "        text-align: right;\n",
       "    }\n",
       "</style>\n",
       "<table border=\"1\" class=\"dataframe\">\n",
       "  <thead>\n",
       "    <tr style=\"text-align: right;\">\n",
       "      <th></th>\n",
       "      <th>feature_type</th>\n",
       "      <th>rmse</th>\n",
       "      <th>r2</th>\n",
       "      <th>n_train_data</th>\n",
       "    </tr>\n",
       "  </thead>\n",
       "  <tbody>\n",
       "    <tr>\n",
       "      <th>0</th>\n",
       "      <td>copy_number</td>\n",
       "      <td>0.098291</td>\n",
       "      <td>0.634227</td>\n",
       "      <td>13008</td>\n",
       "    </tr>\n",
       "    <tr>\n",
       "      <th>1</th>\n",
       "      <td>multiplier_copy_number</td>\n",
       "      <td>0.099096</td>\n",
       "      <td>0.627062</td>\n",
       "      <td>13008</td>\n",
       "    </tr>\n",
       "    <tr>\n",
       "      <th>2</th>\n",
       "      <td>proteomics</td>\n",
       "      <td>0.092087</td>\n",
       "      <td>0.668834</td>\n",
       "      <td>9860</td>\n",
       "    </tr>\n",
       "    <tr>\n",
       "      <th>3</th>\n",
       "      <td>multiplier_proteomics</td>\n",
       "      <td>0.092692</td>\n",
       "      <td>0.671615</td>\n",
       "      <td>9860</td>\n",
       "    </tr>\n",
       "    <tr>\n",
       "      <th>4</th>\n",
       "      <td>transcriptomics</td>\n",
       "      <td>0.092135</td>\n",
       "      <td>0.676431</td>\n",
       "      <td>12995</td>\n",
       "    </tr>\n",
       "    <tr>\n",
       "      <th>5</th>\n",
       "      <td>multiplier_transcriptomics</td>\n",
       "      <td>0.093351</td>\n",
       "      <td>0.672833</td>\n",
       "      <td>12995</td>\n",
       "    </tr>\n",
       "  </tbody>\n",
       "</table>\n",
       "</div>"
      ],
      "text/plain": [
       "                 feature_type      rmse        r2  n_train_data\n",
       "0                 copy_number  0.098291  0.634227         13008\n",
       "1      multiplier_copy_number  0.099096  0.627062         13008\n",
       "2                  proteomics  0.092087  0.668834          9860\n",
       "3       multiplier_proteomics  0.092692  0.671615          9860\n",
       "4             transcriptomics  0.092135  0.676431         12995\n",
       "5  multiplier_transcriptomics  0.093351  0.672833         12995"
      ]
     },
     "execution_count": 7,
     "metadata": {},
     "output_type": "execute_result"
    }
   ],
   "source": [
    "res"
   ]
  },
  {
   "cell_type": "code",
   "execution_count": null,
   "id": "419ec3e0-da58-46ce-ae9a-29a8ff87d287",
   "metadata": {},
   "outputs": [],
   "source": []
  }
 ],
 "metadata": {
  "kernelspec": {
   "display_name": "dl",
   "language": "python",
   "name": "dl"
  },
  "language_info": {
   "codemirror_mode": {
    "name": "ipython",
    "version": 3
   },
   "file_extension": ".py",
   "mimetype": "text/x-python",
   "name": "python",
   "nbconvert_exporter": "python",
   "pygments_lexer": "ipython3",
   "version": "3.10.8"
  }
 },
 "nbformat": 4,
 "nbformat_minor": 5
}
